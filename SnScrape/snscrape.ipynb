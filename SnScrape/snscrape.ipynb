{
 "cells": [
  {
   "cell_type": "code",
   "execution_count": 1,
   "metadata": {},
   "outputs": [
    {
     "name": "stdout",
     "output_type": "stream",
     "text": [
      "Collecting snscrape\n",
      "  Downloading snscrape-0.6.1.20230314-py3-none-any.whl (71 kB)\n",
      "Requirement already satisfied: lxml in c:\\programdata\\anaconda3\\lib\\site-packages (from snscrape) (4.8.0)\n",
      "Requirement already satisfied: requests[socks] in c:\\programdata\\anaconda3\\lib\\site-packages (from snscrape) (2.27.1)\n",
      "Requirement already satisfied: beautifulsoup4 in c:\\programdata\\anaconda3\\lib\\site-packages (from snscrape) (4.11.1)\n",
      "Requirement already satisfied: filelock in c:\\programdata\\anaconda3\\lib\\site-packages (from snscrape) (3.6.0)\n",
      "Requirement already satisfied: soupsieve>1.2 in c:\\programdata\\anaconda3\\lib\\site-packages (from beautifulsoup4->snscrape) (2.3.1)\n",
      "Requirement already satisfied: urllib3<1.27,>=1.21.1 in c:\\programdata\\anaconda3\\lib\\site-packages (from requests[socks]->snscrape) (1.26.9)\n",
      "Requirement already satisfied: certifi>=2017.4.17 in c:\\programdata\\anaconda3\\lib\\site-packages (from requests[socks]->snscrape) (2022.12.7)\n",
      "Requirement already satisfied: charset-normalizer~=2.0.0 in c:\\programdata\\anaconda3\\lib\\site-packages (from requests[socks]->snscrape) (2.0.4)\n",
      "Requirement already satisfied: idna<4,>=2.5 in c:\\programdata\\anaconda3\\lib\\site-packages (from requests[socks]->snscrape) (3.3)\n",
      "Requirement already satisfied: PySocks!=1.5.7,>=1.5.6 in c:\\programdata\\anaconda3\\lib\\site-packages (from requests[socks]->snscrape) (1.7.1)\n",
      "Installing collected packages: snscrape\n",
      "Successfully installed snscrape-0.6.1.20230314\n"
     ]
    }
   ],
   "source": [
    "!pip install snscrape"
   ]
  },
  {
   "cell_type": "code",
   "execution_count": 1,
   "metadata": {},
   "outputs": [],
   "source": [
    "import pandas as pd\n",
    "from tqdm.notebook import tqdm\n",
    "import snscrape.modules.twitter as sntwitter"
   ]
  },
  {
   "cell_type": "code",
   "execution_count": 28,
   "metadata": {},
   "outputs": [
    {
     "data": {
      "application/vnd.jupyter.widget-view+json": {
       "model_id": "06b8f42f649242cb97ac112c64784beb",
       "version_major": 2,
       "version_minor": 0
      },
      "text/plain": [
       "  0%|          | 0/1000 [00:00<?, ?it/s]"
      ]
     },
     "metadata": {},
     "output_type": "display_data"
    }
   ],
   "source": [
    "scraper = sntwitter.TwitterSearchScraper('#ElluPee')\n",
    "tweets = []\n",
    "n_tweets = 1000\n",
    "for i, tweet in tqdm(enumerate(scraper.get_items()), total=n_tweets):\n",
    "    data = [tweet.date, \n",
    "            tweet.id,\n",
    "            tweet.rawContent,\n",
    "            tweet.likeCount,\n",
    "            tweet.retweetCount,\n",
    "            tweet.likeCount,\n",
    "            tweet.sourceLabel,\n",
    "            tweet.user.location,\n",
    "            tweet.user.username,\n",
    "            tweet.user.followersCount\n",
    "            ]\n",
    "    tweets.append(data)\n",
    "    if i > n_tweets:\n",
    "        break \n",
    "\n",
    "tweet_df = pd.DataFrame(tweets, columns=['date', 'id', 'rawContent', 'likeCount', 'retweetCount', 'likeCount', 'sourceLabel', 'location', 'username', 'followersCount'])"
   ]
  },
  {
   "cell_type": "code",
   "execution_count": 22,
   "metadata": {},
   "outputs": [
    {
     "data": {
      "text/plain": [
       "52"
      ]
     },
     "execution_count": 22,
     "metadata": {},
     "output_type": "execute_result"
    }
   ],
   "source": [
    "len(tweets)"
   ]
  },
  {
   "cell_type": "code",
   "execution_count": 23,
   "metadata": {},
   "outputs": [],
   "source": []
  },
  {
   "cell_type": "code",
   "execution_count": 29,
   "metadata": {},
   "outputs": [
    {
     "data": {
      "text/html": [
       "<div>\n",
       "<style scoped>\n",
       "    .dataframe tbody tr th:only-of-type {\n",
       "        vertical-align: middle;\n",
       "    }\n",
       "\n",
       "    .dataframe tbody tr th {\n",
       "        vertical-align: top;\n",
       "    }\n",
       "\n",
       "    .dataframe thead th {\n",
       "        text-align: right;\n",
       "    }\n",
       "</style>\n",
       "<table border=\"1\" class=\"dataframe\">\n",
       "  <thead>\n",
       "    <tr style=\"text-align: right;\">\n",
       "      <th></th>\n",
       "      <th>date</th>\n",
       "      <th>id</th>\n",
       "      <th>rawContent</th>\n",
       "      <th>likeCount</th>\n",
       "      <th>retweetCount</th>\n",
       "      <th>likeCount</th>\n",
       "      <th>sourceLabel</th>\n",
       "      <th>location</th>\n",
       "      <th>username</th>\n",
       "      <th>followersCount</th>\n",
       "    </tr>\n",
       "  </thead>\n",
       "  <tbody>\n",
       "    <tr>\n",
       "      <th>0</th>\n",
       "      <td>2023-03-16 22:53:34+00:00</td>\n",
       "      <td>1636500986691743745</td>\n",
       "      <td>\"Jandor speaks from both sides of his mouth\" G...</td>\n",
       "      <td>7</td>\n",
       "      <td>2</td>\n",
       "      <td>7</td>\n",
       "      <td>Twitter Web App</td>\n",
       "      <td>Abuja</td>\n",
       "      <td>ObiDientTvHQ</td>\n",
       "      <td>54860</td>\n",
       "    </tr>\n",
       "    <tr>\n",
       "      <th>1</th>\n",
       "      <td>2023-03-16 22:35:06+00:00</td>\n",
       "      <td>1636496338983559170</td>\n",
       "      <td>My Governor has spoken!\\nA new Lagos is here ✊...</td>\n",
       "      <td>5</td>\n",
       "      <td>1</td>\n",
       "      <td>5</td>\n",
       "      <td>Twitter for Android</td>\n",
       "      <td>Lagos, Nigeria</td>\n",
       "      <td>essenceofnard</td>\n",
       "      <td>54</td>\n",
       "    </tr>\n",
       "    <tr>\n",
       "      <th>2</th>\n",
       "      <td>2023-03-16 22:31:45+00:00</td>\n",
       "      <td>1636495494162644992</td>\n",
       "      <td>There will be no place for thuggery in the New...</td>\n",
       "      <td>30</td>\n",
       "      <td>19</td>\n",
       "      <td>30</td>\n",
       "      <td>Twitter Web App</td>\n",
       "      <td>Abuja</td>\n",
       "      <td>ObiDientTvHQ</td>\n",
       "      <td>54860</td>\n",
       "    </tr>\n",
       "    <tr>\n",
       "      <th>3</th>\n",
       "      <td>2023-03-16 22:10:37+00:00</td>\n",
       "      <td>1636490177660039172</td>\n",
       "      <td>Why religion is important?\\n\\nFull Video:- htt...</td>\n",
       "      <td>2</td>\n",
       "      <td>1</td>\n",
       "      <td>2</td>\n",
       "      <td>Twitter for Android</td>\n",
       "      <td>Lagos, Nigeria</td>\n",
       "      <td>drealbolt</td>\n",
       "      <td>625</td>\n",
       "    </tr>\n",
       "    <tr>\n",
       "      <th>4</th>\n",
       "      <td>2023-03-16 22:10:28+00:00</td>\n",
       "      <td>1636490140242571264</td>\n",
       "      <td>This is the ElluP guy! Let's show him some lov...</td>\n",
       "      <td>34</td>\n",
       "      <td>7</td>\n",
       "      <td>34</td>\n",
       "      <td>Twitter Web App</td>\n",
       "      <td>Abuja</td>\n",
       "      <td>ObiDientTvHQ</td>\n",
       "      <td>54860</td>\n",
       "    </tr>\n",
       "    <tr>\n",
       "      <th>...</th>\n",
       "      <td>...</td>\n",
       "      <td>...</td>\n",
       "      <td>...</td>\n",
       "      <td>...</td>\n",
       "      <td>...</td>\n",
       "      <td>...</td>\n",
       "      <td>...</td>\n",
       "      <td>...</td>\n",
       "      <td>...</td>\n",
       "      <td>...</td>\n",
       "    </tr>\n",
       "    <tr>\n",
       "      <th>716</th>\n",
       "      <td>2023-03-04 19:13:13+00:00</td>\n",
       "      <td>1632096878815768578</td>\n",
       "      <td>@TonyeCole1 #Obidients in Rivers state, this i...</td>\n",
       "      <td>1</td>\n",
       "      <td>0</td>\n",
       "      <td>1</td>\n",
       "      <td>Twitter for Android</td>\n",
       "      <td>Ogba, Lagos, Nigeria</td>\n",
       "      <td>Cheta_Okorafor</td>\n",
       "      <td>793</td>\n",
       "    </tr>\n",
       "    <tr>\n",
       "      <th>717</th>\n",
       "      <td>2023-03-04 13:34:22+00:00</td>\n",
       "      <td>1632011603515260929</td>\n",
       "      <td>This is my Governor 🙌🏾\\n#Ellupee</td>\n",
       "      <td>0</td>\n",
       "      <td>0</td>\n",
       "      <td>0</td>\n",
       "      <td>Twitter for iPhone</td>\n",
       "      <td>Lagos, Nigeria</td>\n",
       "      <td>iamchummy2</td>\n",
       "      <td>311</td>\n",
       "    </tr>\n",
       "    <tr>\n",
       "      <th>718</th>\n",
       "      <td>2023-03-04 13:33:54+00:00</td>\n",
       "      <td>1632011485500022784</td>\n",
       "      <td>@AishaYesufu Wao.  Thank you so much @AishaYes...</td>\n",
       "      <td>4</td>\n",
       "      <td>0</td>\n",
       "      <td>4</td>\n",
       "      <td>Twitter for Android</td>\n",
       "      <td></td>\n",
       "      <td>movingtrain01</td>\n",
       "      <td>1677</td>\n",
       "    </tr>\n",
       "    <tr>\n",
       "      <th>719</th>\n",
       "      <td>2023-03-04 10:27:59+00:00</td>\n",
       "      <td>1631964701016969216</td>\n",
       "      <td>Literally worked all thru the night, and then ...</td>\n",
       "      <td>116</td>\n",
       "      <td>32</td>\n",
       "      <td>116</td>\n",
       "      <td>Twitter for iPhone</td>\n",
       "      <td>Nigeria</td>\n",
       "      <td>istifanussarki</td>\n",
       "      <td>165</td>\n",
       "    </tr>\n",
       "    <tr>\n",
       "      <th>720</th>\n",
       "      <td>2023-03-03 15:28:07+00:00</td>\n",
       "      <td>1631677842005061634</td>\n",
       "      <td>Kaduna sai ASAKE! Asake ikon Allah 💯 #Ellupee ...</td>\n",
       "      <td>3</td>\n",
       "      <td>2</td>\n",
       "      <td>3</td>\n",
       "      <td>Twitter for iPhone</td>\n",
       "      <td>Nigeria</td>\n",
       "      <td>don_zizu</td>\n",
       "      <td>831</td>\n",
       "    </tr>\n",
       "  </tbody>\n",
       "</table>\n",
       "<p>721 rows × 10 columns</p>\n",
       "</div>"
      ],
      "text/plain": [
       "                         date                   id  \\\n",
       "0   2023-03-16 22:53:34+00:00  1636500986691743745   \n",
       "1   2023-03-16 22:35:06+00:00  1636496338983559170   \n",
       "2   2023-03-16 22:31:45+00:00  1636495494162644992   \n",
       "3   2023-03-16 22:10:37+00:00  1636490177660039172   \n",
       "4   2023-03-16 22:10:28+00:00  1636490140242571264   \n",
       "..                        ...                  ...   \n",
       "716 2023-03-04 19:13:13+00:00  1632096878815768578   \n",
       "717 2023-03-04 13:34:22+00:00  1632011603515260929   \n",
       "718 2023-03-04 13:33:54+00:00  1632011485500022784   \n",
       "719 2023-03-04 10:27:59+00:00  1631964701016969216   \n",
       "720 2023-03-03 15:28:07+00:00  1631677842005061634   \n",
       "\n",
       "                                            rawContent  likeCount  \\\n",
       "0    \"Jandor speaks from both sides of his mouth\" G...          7   \n",
       "1    My Governor has spoken!\\nA new Lagos is here ✊...          5   \n",
       "2    There will be no place for thuggery in the New...         30   \n",
       "3    Why religion is important?\\n\\nFull Video:- htt...          2   \n",
       "4    This is the ElluP guy! Let's show him some lov...         34   \n",
       "..                                                 ...        ...   \n",
       "716  @TonyeCole1 #Obidients in Rivers state, this i...          1   \n",
       "717                   This is my Governor 🙌🏾\\n#Ellupee          0   \n",
       "718  @AishaYesufu Wao.  Thank you so much @AishaYes...          4   \n",
       "719  Literally worked all thru the night, and then ...        116   \n",
       "720  Kaduna sai ASAKE! Asake ikon Allah 💯 #Ellupee ...          3   \n",
       "\n",
       "     retweetCount  likeCount          sourceLabel              location  \\\n",
       "0               2          7      Twitter Web App                 Abuja   \n",
       "1               1          5  Twitter for Android        Lagos, Nigeria   \n",
       "2              19         30      Twitter Web App                 Abuja   \n",
       "3               1          2  Twitter for Android        Lagos, Nigeria   \n",
       "4               7         34      Twitter Web App                 Abuja   \n",
       "..            ...        ...                  ...                   ...   \n",
       "716             0          1  Twitter for Android  Ogba, Lagos, Nigeria   \n",
       "717             0          0   Twitter for iPhone        Lagos, Nigeria   \n",
       "718             0          4  Twitter for Android                         \n",
       "719            32        116   Twitter for iPhone               Nigeria   \n",
       "720             2          3   Twitter for iPhone               Nigeria   \n",
       "\n",
       "           username  followersCount  \n",
       "0      ObiDientTvHQ           54860  \n",
       "1     essenceofnard              54  \n",
       "2      ObiDientTvHQ           54860  \n",
       "3         drealbolt             625  \n",
       "4      ObiDientTvHQ           54860  \n",
       "..              ...             ...  \n",
       "716  Cheta_Okorafor             793  \n",
       "717      iamchummy2             311  \n",
       "718   movingtrain01            1677  \n",
       "719  istifanussarki             165  \n",
       "720        don_zizu             831  \n",
       "\n",
       "[721 rows x 10 columns]"
      ]
     },
     "execution_count": 29,
     "metadata": {},
     "output_type": "execute_result"
    }
   ],
   "source": [
    "tweet_df"
   ]
  },
  {
   "cell_type": "code",
   "execution_count": 26,
   "metadata": {},
   "outputs": [
    {
     "data": {
      "text/plain": [
       "Tweet(url='https://twitter.com/drealbolt/status/1636490177660039172', date=datetime.datetime(2023, 3, 16, 22, 10, 37, tzinfo=datetime.timezone.utc), rawContent=\"Why religion is important?\\n\\nFull Video:- https://t.co/dHUSTns99x\\n\\nDesmond Elliot Nancy Isime Banky She's 21 Jandor LUTH Portable Surulere #ElluPee Lagosians Rema Abia State Thugs Tunde Ednut Banky https://t.co/XdKTYIH3Xg\", renderedContent=\"Why religion is important?\\n\\nFull Video:- youtu.be/3tyk2PXhdlo\\n\\nDesmond Elliot Nancy Isime Banky She's 21 Jandor LUTH Portable Surulere #ElluPee Lagosians Rema Abia State Thugs Tunde Ednut Banky https://t.co/XdKTYIH3Xg\", id=1636490177660039172, user=User(username='drealbolt', id=1322991533960925184, displayname='The Immortal Bolt 🇳🇬', rawDescription='Entrepreneur / Content Creator\\n• Co-founder (@duoamisllc)\\n• Media (@streamdorm, @budhavier) \\n• Podcaster (@theimmortalpod)', renderedDescription='Entrepreneur / Content Creator\\n• Co-founder (@duoamisllc)\\n• Media (@streamdorm, @budhavier) \\n• Podcaster (@theimmortalpod)', descriptionLinks=None, verified=False, created=datetime.datetime(2020, 11, 1, 19, 59, 13, tzinfo=datetime.timezone.utc), followersCount=625, friendsCount=104, statusesCount=4240, favouritesCount=15198, listedCount=0, mediaCount=183, location='Lagos, Nigeria', protected=False, link=TextLink(text='linktr.ee/drealbolt', url='https://linktr.ee/drealbolt', tcourl='https://t.co/MdnjayaZND', indices=(0, 23)), profileImageUrl='https://pbs.twimg.com/profile_images/1593225176514265089/ooQ4TIZe_normal.jpg', profileBannerUrl='https://pbs.twimg.com/profile_banners/1322991533960925184/1678382233', label=None), replyCount=1, retweetCount=1, likeCount=2, quoteCount=0, conversationId=1636490177660039172, lang='en', source='<a href=\"http://twitter.com/download/android\" rel=\"nofollow\">Twitter for Android</a>', sourceUrl='http://twitter.com/download/android', sourceLabel='Twitter for Android', links=[TextLink(text='youtu.be/3tyk2PXhdlo', url='https://youtu.be/3tyk2PXhdlo', tcourl='https://t.co/dHUSTns99x', indices=(41, 64))], media=[Video(thumbnailUrl='https://pbs.twimg.com/ext_tw_video_thumb/1636490081392369672/pu/img/ZC-8iGBPVmRvanjN.jpg', variants=[VideoVariant(url='https://video.twimg.com/ext_tw_video/1636490081392369672/pu/vid/480x852/XHu91k4LzQUmnuWv.mp4?tag=12', contentType='video/mp4', bitrate=950000), VideoVariant(url='https://video.twimg.com/ext_tw_video/1636490081392369672/pu/vid/320x568/EDTElVgAKyOlEmFR.mp4?tag=12', contentType='video/mp4', bitrate=632000), VideoVariant(url='https://video.twimg.com/ext_tw_video/1636490081392369672/pu/pl/zmM_Dl3fSs31l6Qi.m3u8?tag=12&container=fmp4', contentType='application/x-mpegURL', bitrate=None), VideoVariant(url='https://video.twimg.com/ext_tw_video/1636490081392369672/pu/vid/720x1280/7mePQtnFx6BlNcpN.mp4?tag=12', contentType='video/mp4', bitrate=2176000)], duration=26.08, views=64, altText=None)], retweetedTweet=None, quotedTweet=None, inReplyToTweetId=None, inReplyToUser=None, mentionedUsers=None, coordinates=None, place=None, hashtags=['ElluPee'], cashtags=None, card=None, viewCount=755, vibe=None)"
      ]
     },
     "execution_count": 26,
     "metadata": {},
     "output_type": "execute_result"
    }
   ],
   "source": [
    "scraper = sntwitter.TwitterSearchScraper('#ElluPee')\n",
    "for tweetr in scraper.get_items():\n",
    "    break\n",
    "\n",
    "tweetr"
   ]
  },
  {
   "cell_type": "code",
   "execution_count": null,
   "metadata": {},
   "outputs": [],
   "source": []
  },
  {
   "cell_type": "code",
   "execution_count": null,
   "metadata": {},
   "outputs": [],
   "source": []
  }
 ],
 "metadata": {
  "kernelspec": {
   "display_name": "Python 3.9.12 ('base')",
   "language": "python",
   "name": "python3"
  },
  "language_info": {
   "codemirror_mode": {
    "name": "ipython",
    "version": 3
   },
   "file_extension": ".py",
   "mimetype": "text/x-python",
   "name": "python",
   "nbconvert_exporter": "python",
   "pygments_lexer": "ipython3",
   "version": "3.9.12"
  },
  "orig_nbformat": 4,
  "vscode": {
   "interpreter": {
    "hash": "ad2bdc8ecc057115af97d19610ffacc2b4e99fae6737bb82f5d7fb13d2f2c186"
   }
  }
 },
 "nbformat": 4,
 "nbformat_minor": 2
}
